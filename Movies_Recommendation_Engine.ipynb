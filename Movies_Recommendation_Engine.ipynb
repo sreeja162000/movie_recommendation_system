{
 "cells": [
  {
   "cell_type": "markdown",
   "metadata": {
    "colab_type": "text",
    "id": "eMZcgcQsm-9y"
   },
   "source": [
    "## Installing Libraries"
   ]
  },
  {
   "cell_type": "code",
   "execution_count": 35,
   "metadata": {
    "colab": {},
    "colab_type": "code",
    "id": "HNmYMKhCnITm"
   },
   "outputs": [
    {
     "name": "stdout",
     "output_type": "stream",
     "text": [
      "Defaulting to user installation because normal site-packages is not writeable\n",
      "Requirement already satisfied: numpy in /home/rhyme/.local/lib/python3.6/site-packages (1.19.1)\n",
      "Requirement already satisfied: pandas in /home/rhyme/.local/lib/python3.6/site-packages (1.1.0)\n",
      "Requirement already satisfied: matplotlib in /home/rhyme/.local/lib/python3.6/site-packages (3.3.0)\n",
      "Requirement already satisfied: scikit-surprise in /home/rhyme/.local/lib/python3.6/site-packages (1.1.1)\n",
      "Requirement already satisfied: pytz>=2017.2 in /home/rhyme/.local/lib/python3.6/site-packages (from pandas) (2020.1)\n",
      "Requirement already satisfied: python-dateutil>=2.7.3 in /home/rhyme/.local/lib/python3.6/site-packages (from pandas) (2.8.1)\n",
      "Requirement already satisfied: cycler>=0.10 in /home/rhyme/.local/lib/python3.6/site-packages (from matplotlib) (0.10.0)\n",
      "Requirement already satisfied: kiwisolver>=1.0.1 in /home/rhyme/.local/lib/python3.6/site-packages (from matplotlib) (1.2.0)\n",
      "Requirement already satisfied: pyparsing!=2.0.4,!=2.1.2,!=2.1.6,>=2.0.3 in /home/rhyme/.local/lib/python3.6/site-packages (from matplotlib) (2.4.7)\n",
      "Requirement already satisfied: pillow>=6.2.0 in /home/rhyme/.local/lib/python3.6/site-packages (from matplotlib) (7.2.0)\n",
      "Requirement already satisfied: joblib>=0.11 in /home/rhyme/.local/lib/python3.6/site-packages (from scikit-surprise) (0.16.0)\n",
      "Requirement already satisfied: scipy>=1.0.0 in /home/rhyme/.local/lib/python3.6/site-packages (from scikit-surprise) (1.5.2)\n",
      "Requirement already satisfied: six>=1.10.0 in /usr/lib/python3/dist-packages (from scikit-surprise) (1.11.0)\n"
     ]
    }
   ],
   "source": [
    "\n",
    "!pip install numpy pandas matplotlib scikit-surprise\n",
    "\n"
   ]
  },
  {
   "cell_type": "markdown",
   "metadata": {
    "colab_type": "text",
    "id": "FYwbN6KqJjPo"
   },
   "source": [
    "##  Importing Libraries\n",
    "\n",
    "First of all, we will need to import some libraries. This includes surprise which we will use to create the recommendation system."
   ]
  },
  {
   "cell_type": "code",
   "execution_count": 2,
   "metadata": {
    "colab": {},
    "colab_type": "code",
    "id": "5OGYBAjxAzLC"
   },
   "outputs": [
    {
     "name": "stdout",
     "output_type": "stream",
     "text": [
      ">> Importing Libraries\n",
      ">> Libraries imported.\n"
     ]
    }
   ],
   "source": [
    "print('>> Importing Libraries')\n",
    "\n",
    "import pandas as pd\n",
    "\n",
    "from surprise import Reader, Dataset, SVD\n",
    "\n",
    "from surprise.accuracy import rmse, mae\n",
    "from surprise.model_selection import cross_validate\n",
    "\n",
    "print('>> Libraries imported.')"
   ]
  },
  {
   "cell_type": "markdown",
   "metadata": {
    "colab_type": "text",
    "id": "vS0k5tdWKSfZ"
   },
   "source": [
    "## Importing the Data\n",
    "\n",
    "The dataset is saved in a `ratings.csv` file. We will use pandas to take a look at some of the rows."
   ]
  },
  {
   "cell_type": "code",
   "execution_count": 16,
   "metadata": {
    "colab": {},
    "colab_type": "code",
    "id": "3lbOmdPwKsPm"
   },
   "outputs": [],
   "source": [
    "df=pd.read_csv('ratings.csv')"
   ]
  },
  {
   "cell_type": "markdown",
   "metadata": {
    "colab_type": "text",
    "id": "GvUhDQIgLOEY"
   },
   "source": [
    "##  Dropping timestamp\n",
    "\n",
    "We won't be using the timestamp when user gave the particular rating. So we will drop that column."
   ]
  },
  {
   "cell_type": "code",
   "execution_count": 17,
   "metadata": {
    "colab": {},
    "colab_type": "code",
    "id": "TXvWh3duLjiP"
   },
   "outputs": [
    {
     "data": {
      "text/html": [
       "<div>\n",
       "<style scoped>\n",
       "    .dataframe tbody tr th:only-of-type {\n",
       "        vertical-align: middle;\n",
       "    }\n",
       "\n",
       "    .dataframe tbody tr th {\n",
       "        vertical-align: top;\n",
       "    }\n",
       "\n",
       "    .dataframe thead th {\n",
       "        text-align: right;\n",
       "    }\n",
       "</style>\n",
       "<table border=\"1\" class=\"dataframe\">\n",
       "  <thead>\n",
       "    <tr style=\"text-align: right;\">\n",
       "      <th></th>\n",
       "      <th>userId</th>\n",
       "      <th>movieId</th>\n",
       "      <th>rating</th>\n",
       "    </tr>\n",
       "  </thead>\n",
       "  <tbody>\n",
       "    <tr>\n",
       "      <th>0</th>\n",
       "      <td>1</td>\n",
       "      <td>1</td>\n",
       "      <td>4.0</td>\n",
       "    </tr>\n",
       "    <tr>\n",
       "      <th>1</th>\n",
       "      <td>1</td>\n",
       "      <td>3</td>\n",
       "      <td>4.0</td>\n",
       "    </tr>\n",
       "    <tr>\n",
       "      <th>2</th>\n",
       "      <td>1</td>\n",
       "      <td>6</td>\n",
       "      <td>4.0</td>\n",
       "    </tr>\n",
       "    <tr>\n",
       "      <th>3</th>\n",
       "      <td>1</td>\n",
       "      <td>47</td>\n",
       "      <td>5.0</td>\n",
       "    </tr>\n",
       "    <tr>\n",
       "      <th>4</th>\n",
       "      <td>1</td>\n",
       "      <td>50</td>\n",
       "      <td>5.0</td>\n",
       "    </tr>\n",
       "  </tbody>\n",
       "</table>\n",
       "</div>"
      ],
      "text/plain": [
       "   userId  movieId  rating\n",
       "0       1        1     4.0\n",
       "1       1        3     4.0\n",
       "2       1        6     4.0\n",
       "3       1       47     5.0\n",
       "4       1       50     5.0"
      ]
     },
     "execution_count": 17,
     "metadata": {},
     "output_type": "execute_result"
    }
   ],
   "source": [
    "df.drop('timestamp',axis=1,inplace=True)\n",
    "df.head()"
   ]
  },
  {
   "cell_type": "markdown",
   "metadata": {
    "colab_type": "text",
    "id": "OPEBn0gAK-5m"
   },
   "source": [
    "##  Check for Missing Data\n",
    "\n"
   ]
  },
  {
   "cell_type": "code",
   "execution_count": 18,
   "metadata": {
    "colab": {},
    "colab_type": "code",
    "id": "BfBqk7KkLFV6"
   },
   "outputs": [
    {
     "data": {
      "text/plain": [
       "userId     0\n",
       "movieId    0\n",
       "rating     0\n",
       "dtype: int64"
      ]
     },
     "execution_count": 18,
     "metadata": {},
     "output_type": "execute_result"
    }
   ],
   "source": [
    "df.isnull().sum()"
   ]
  },
  {
   "cell_type": "markdown",
   "metadata": {
    "colab_type": "text",
    "id": "FQYVA-J5MCUG"
   },
   "source": [
    "# (Exploratory data analysis)\n"
   ]
  },
  {
   "cell_type": "markdown",
   "metadata": {
    "colab_type": "text",
    "id": "XJ0CD6ZiOpRI"
   },
   "source": [
    "##  Number of movies/users"
   ]
  },
  {
   "cell_type": "code",
   "execution_count": 19,
   "metadata": {
    "colab": {},
    "colab_type": "code",
    "id": "vnEIeAO6Psj2"
   },
   "outputs": [
    {
     "name": "stdout",
     "output_type": "stream",
     "text": [
      "n_movies 9724\n",
      "users 610\n"
     ]
    }
   ],
   "source": [
    "n_movies=df['movieId'].nunique()\n",
    "n_users=df['userId'].nunique()\n",
    "print('n_movies' , n_movies)\n",
    "print('users',n_users)"
   ]
  },
  {
   "cell_type": "markdown",
   "metadata": {
    "colab_type": "text",
    "id": "dclqP0iXOo_F"
   },
   "source": [
    "## Sparsity of our data\n",
    "\n",
    "Sparsity (%) = `(No of missing values/ (Total Values))X100`"
   ]
  },
  {
   "cell_type": "code",
   "execution_count": 20,
   "metadata": {
    "colab": {},
    "colab_type": "code",
    "id": "xPYF0zlfREMK"
   },
   "outputs": [
    {
     "name": "stdout",
     "output_type": "stream",
     "text": [
      "sparsity 98.30003169443864\n"
     ]
    }
   ],
   "source": [
    "available_ratings=df['rating'].count()\n",
    "total_ratings=n_movies*n_users\n",
    "missing_ratings=total_ratings - available_ratings\n",
    "sparsity=(missing_ratings/total_ratings)*100\n",
    "print('sparsity', sparsity)"
   ]
  },
  {
   "cell_type": "markdown",
   "metadata": {
    "colab_type": "text",
    "id": "kcYDLtG5Ok_p"
   },
   "source": [
    "##  Ratings Distribution"
   ]
  },
  {
   "cell_type": "code",
   "execution_count": 21,
   "metadata": {
    "colab": {},
    "colab_type": "code",
    "id": "ZO7Mv-jdL4_z"
   },
   "outputs": [
    {
     "data": {
      "text/plain": [
       "<AxesSubplot:>"
      ]
     },
     "execution_count": 21,
     "metadata": {},
     "output_type": "execute_result"
    },
    {
     "data": {
      "image/png": "[encoded data removed]",
      "text/plain": [
       "<Figure size 432x288 with 1 Axes>"
      ]
     },
     "metadata": {
      "needs_background": "light"
     },
     "output_type": "display_data"
    }
   ],
   "source": [
    "df['rating'].value_counts().plot(kind='bar')"
   ]
  },
  {
   "cell_type": "markdown",
   "metadata": {
    "colab_type": "text",
    "id": "xdLsIItxSd9K"
   },
   "source": [
    "#  Dimensionality Reduction\n",
    "\n",
    "To reduce the dimensionality of the dataset, we will filter out rarely rated movies and rarely rating users"
   ]
  },
  {
   "cell_type": "markdown",
   "metadata": {
    "colab_type": "text",
    "id": "i3jYt3m5TNVL"
   },
   "source": [
    "##  Filter movies with less than 3 ratings"
   ]
  },
  {
   "cell_type": "code",
   "execution_count": 22,
   "metadata": {
    "colab": {},
    "colab_type": "code",
    "id": "msZU9YSxSeUo"
   },
   "outputs": [],
   "source": [
    "filter_movies =df['movieId'].value_counts()>3\n",
    "filter_movies=filter_movies[filter_movies].index.tolist()\n"
   ]
  },
  {
   "cell_type": "markdown",
   "metadata": {
    "colab_type": "text",
    "id": "IYaMxlXcTdGS"
   },
   "source": [
    "##  Filter users with less than 3 movies rated"
   ]
  },
  {
   "cell_type": "code",
   "execution_count": 23,
   "metadata": {
    "colab": {},
    "colab_type": "code",
    "id": "WPeNAggIS-Y_"
   },
   "outputs": [],
   "source": [
    "filter_users=df['userId'].value_counts() >3\n",
    "filter_users =filter_users[filter_users].index.tolist()"
   ]
  },
  {
   "cell_type": "markdown",
   "metadata": {
    "colab_type": "text",
    "id": "c2LFIAGXT3ro"
   },
   "source": [
    "##  Remove rarely rated movies and rarely rating users"
   ]
  },
  {
   "cell_type": "code",
   "execution_count": 24,
   "metadata": {
    "colab": {},
    "colab_type": "code",
    "id": "tTUG4ao6S_x7"
   },
   "outputs": [
    {
     "name": "stdout",
     "output_type": "stream",
     "text": [
      "(100836, 3)\n"
     ]
    },
    {
     "data": {
      "text/plain": [
       "(92394, 3)"
      ]
     },
     "execution_count": 24,
     "metadata": {},
     "output_type": "execute_result"
    }
   ],
   "source": [
    "print(df.shape)\n",
    "df=df[(df['movieId'].isin(filter_movies)) & (df['userId'].isin(filter_users))]\n",
    "df.shape"
   ]
  },
  {
   "cell_type": "markdown",
   "metadata": {
    "colab_type": "text",
    "id": "TbviZWiPM3jQ"
   },
   "source": [
    "#  Create Training and Test Sets"
   ]
  },
  {
   "cell_type": "markdown",
   "metadata": {
    "colab_type": "text",
    "id": "TIK2L0VuhbgA"
   },
   "source": [
    "##  Columns used for training"
   ]
  },
  {
   "cell_type": "code",
   "execution_count": 25,
   "metadata": {
    "colab": {},
    "colab_type": "code",
    "id": "bXF4dmJKhF7q"
   },
   "outputs": [],
   "source": [
    "cols=['userId','movieId','rating']"
   ]
  },
  {
   "cell_type": "markdown",
   "metadata": {
    "colab_type": "text",
    "id": "J8rylnJmUjYk"
   },
   "source": [
    "##  Create surprise dataset"
   ]
  },
  {
   "cell_type": "code",
   "execution_count": 26,
   "metadata": {
    "colab": {},
    "colab_type": "code",
    "id": "4UOTMUssM6Tw"
   },
   "outputs": [],
   "source": [
    "reader = Reader(rating_scale = (0.5,5))\n",
    "data = Dataset.load_from_df(df[cols],reader)"
   ]
  },
  {
   "cell_type": "markdown",
   "metadata": {
    "colab_type": "text",
    "id": "8lM--CdvguDz"
   },
   "source": [
    "## Create Train-set and Prediction-set"
   ]
  },
  {
   "cell_type": "code",
   "execution_count": 36,
   "metadata": {
    "colab": {},
    "colab_type": "code",
    "id": "heITVvtvU1FD"
   },
   "outputs": [],
   "source": [
    "trainset = data.build_full_trainset()\n",
    "antiset = trainset.build_anti_testset()\n"
   ]
  },
  {
   "cell_type": "markdown",
   "metadata": {
    "colab_type": "text",
    "id": "AYfhHDReuO5h"
   },
   "source": [
    "#  Creating and training the model"
   ]
  },
  {
   "cell_type": "markdown",
   "metadata": {
    "colab_type": "text",
    "id": "R4e28tFHubv9"
   },
   "source": [
    "##  Creating the model\n",
    "\n",
    "**SVD (Singular Value Decomposition)**\n",
    "\n",
    "Interaction Matrix = A X B X C"
   ]
  },
  {
   "cell_type": "code",
   "execution_count": 30,
   "metadata": {
    "colab": {},
    "colab_type": "code",
    "id": "Ft4rS3L-hqeS"
   },
   "outputs": [],
   "source": [
    "algo = SVD (n_epochs =25 , verbose = True)\n"
   ]
  },
  {
   "cell_type": "markdown",
   "metadata": {
    "colab_type": "text",
    "id": "h_16sRpXwahF"
   },
   "source": [
    "##  Training the model\n",
    "\n",
    "**Mean Absolute Error (MAE)**: MAE measures the average magnitude of the errors in a set of predictions, without considering their direction. \n",
    "\n",
    "**Root mean squared error (RMSE)**:  RMSE is the square root of the average of squared differences between prediction and actual observation."
   ]
  },
  {
   "cell_type": "code",
   "execution_count": 31,
   "metadata": {
    "colab": {},
    "colab_type": "code",
    "id": "nh-E5DS5wYe_"
   },
   "outputs": [
    {
     "name": "stdout",
     "output_type": "stream",
     "text": [
      "Processing epoch 0\n",
      "Processing epoch 1\n",
      "Processing epoch 2\n",
      "Processing epoch 3\n",
      "Processing epoch 4\n",
      "Processing epoch 5\n",
      "Processing epoch 6\n",
      "Processing epoch 7\n",
      "Processing epoch 8\n",
      "Processing epoch 9\n",
      "Processing epoch 10\n",
      "Processing epoch 11\n",
      "Processing epoch 12\n",
      "Processing epoch 13\n",
      "Processing epoch 14\n",
      "Processing epoch 15\n",
      "Processing epoch 16\n",
      "Processing epoch 17\n",
      "Processing epoch 18\n",
      "Processing epoch 19\n",
      "Processing epoch 20\n",
      "Processing epoch 21\n",
      "Processing epoch 22\n",
      "Processing epoch 23\n",
      "Processing epoch 24\n",
      "Processing epoch 0\n",
      "Processing epoch 1\n",
      "Processing epoch 2\n",
      "Processing epoch 3\n",
      "Processing epoch 4\n",
      "Processing epoch 5\n",
      "Processing epoch 6\n",
      "Processing epoch 7\n",
      "Processing epoch 8\n",
      "Processing epoch 9\n",
      "Processing epoch 10\n",
      "Processing epoch 11\n",
      "Processing epoch 12\n",
      "Processing epoch 13\n",
      "Processing epoch 14\n",
      "Processing epoch 15\n",
      "Processing epoch 16\n",
      "Processing epoch 17\n",
      "Processing epoch 18\n",
      "Processing epoch 19\n",
      "Processing epoch 20\n",
      "Processing epoch 21\n",
      "Processing epoch 22\n",
      "Processing epoch 23\n",
      "Processing epoch 24\n",
      "Processing epoch 0\n",
      "Processing epoch 1\n",
      "Processing epoch 2\n",
      "Processing epoch 3\n",
      "Processing epoch 4\n",
      "Processing epoch 5\n",
      "Processing epoch 6\n",
      "Processing epoch 7\n",
      "Processing epoch 8\n",
      "Processing epoch 9\n",
      "Processing epoch 10\n",
      "Processing epoch 11\n",
      "Processing epoch 12\n",
      "Processing epoch 13\n",
      "Processing epoch 14\n",
      "Processing epoch 15\n",
      "Processing epoch 16\n",
      "Processing epoch 17\n",
      "Processing epoch 18\n",
      "Processing epoch 19\n",
      "Processing epoch 20\n",
      "Processing epoch 21\n",
      "Processing epoch 22\n",
      "Processing epoch 23\n",
      "Processing epoch 24\n",
      "Processing epoch 0\n",
      "Processing epoch 1\n",
      "Processing epoch 2\n",
      "Processing epoch 3\n",
      "Processing epoch 4\n",
      "Processing epoch 5\n",
      "Processing epoch 6\n",
      "Processing epoch 7\n",
      "Processing epoch 8\n",
      "Processing epoch 9\n",
      "Processing epoch 10\n",
      "Processing epoch 11\n",
      "Processing epoch 12\n",
      "Processing epoch 13\n",
      "Processing epoch 14\n",
      "Processing epoch 15\n",
      "Processing epoch 16\n",
      "Processing epoch 17\n",
      "Processing epoch 18\n",
      "Processing epoch 19\n",
      "Processing epoch 20\n",
      "Processing epoch 21\n",
      "Processing epoch 22\n",
      "Processing epoch 23\n",
      "Processing epoch 24\n",
      "Processing epoch 0\n",
      "Processing epoch 1\n",
      "Processing epoch 2\n",
      "Processing epoch 3\n",
      "Processing epoch 4\n",
      "Processing epoch 5\n",
      "Processing epoch 6\n",
      "Processing epoch 7\n",
      "Processing epoch 8\n",
      "Processing epoch 9\n",
      "Processing epoch 10\n",
      "Processing epoch 11\n",
      "Processing epoch 12\n",
      "Processing epoch 13\n",
      "Processing epoch 14\n",
      "Processing epoch 15\n",
      "Processing epoch 16\n",
      "Processing epoch 17\n",
      "Processing epoch 18\n",
      "Processing epoch 19\n",
      "Processing epoch 20\n",
      "Processing epoch 21\n",
      "Processing epoch 22\n",
      "Processing epoch 23\n",
      "Processing epoch 24\n",
      "Evaluating RMSE, MAE of algorithm SVD on 5 split(s).\n",
      "\n",
      "                  Fold 1  Fold 2  Fold 3  Fold 4  Fold 5  Mean    Std     \n",
      "RMSE (testset)    0.8557  0.8593  0.8599  0.8661  0.8693  0.8621  0.0049  \n",
      "MAE (testset)     0.6571  0.6586  0.6598  0.6646  0.6675  0.6615  0.0039  \n",
      "Fit time          9.56    9.52    9.72    9.71    9.67    9.64    0.08    \n",
      "Test time         0.36    0.19    0.40    0.22    0.19    0.27    0.09    \n",
      "Training done\n"
     ]
    }
   ],
   "source": [
    "cross_validate(algo,data, measures =['RMSE','MAE'], cv=5 , verbose =True)\n",
    "print('Training done')"
   ]
  },
  {
   "cell_type": "markdown",
   "metadata": {
    "colab_type": "text",
    "id": "zTnqbNt_xkKS"
   },
   "source": [
    "#  Predictions"
   ]
  },
  {
   "cell_type": "markdown",
   "metadata": {
    "colab_type": "text",
    "id": "ma3oQr1Ax_Hg"
   },
   "source": [
    "##  Predict ratings for all pairs (user, items) that are NOT in the training set."
   ]
  },
  {
   "cell_type": "code",
   "execution_count": 32,
   "metadata": {
    "colab": {},
    "colab_type": "code",
    "id": "_K3EmIs3wxhW"
   },
   "outputs": [],
   "source": [
    "predictions = algo.test(antiset)"
   ]
  },
  {
   "cell_type": "code",
   "execution_count": 33,
   "metadata": {
    "colab": {},
    "colab_type": "code",
    "id": "RkqiEwM9z4Jf"
   },
   "outputs": [
    {
     "data": {
      "text/plain": [
       "Prediction(uid=1, iid=318, r_ui=3.529119856267723, est=4.992353086477942, details={'was_impossible': False})"
      ]
     },
     "execution_count": 33,
     "metadata": {},
     "output_type": "execute_result"
    }
   ],
   "source": [
    "predictions[0]"
   ]
  },
  {
   "cell_type": "markdown",
   "metadata": {
    "colab_type": "text",
    "id": "lRmzGn63ze8b"
   },
   "source": [
    "##  Recommending top 3 movies movies based on predictions"
   ]
  },
  {
   "cell_type": "code",
   "execution_count": 34,
   "metadata": {
    "colab": {},
    "colab_type": "code",
    "id": "q3Ugauv0119g"
   },
   "outputs": [
    {
     "name": "stdout",
     "output_type": "stream",
     "text": [
      "1 [1203, 1266, 2324]\n",
      "2 [1673, 527, 1197]\n",
      "3 [899, 951, 1036]\n",
      "4 [3030, 2289, 1247]\n",
      "5 [1237, 260, 4973]\n",
      "6 [1237, 1204, 1248]\n",
      "7 [1204, 1221, 720]\n",
      "8 [3468, 750, 5902]\n",
      "9 [1197, 541, 1204]\n",
      "10 [527, 1266, 541]\n",
      "11 [7153, 5952, 2324]\n",
      "12 [50, 356, 1089]\n",
      "13 [2959, 2019, 898]\n",
      "14 [899, 6440, 951]\n",
      "15 [912, 1207, 1204]\n",
      "16 [898, 1204, 1248]\n",
      "17 [1204, 1262, 912]\n",
      "18 [1204, 1104, 1225]\n",
      "19 [296, 2324, 4226]\n",
      "20 [318, 3949, 1198]\n",
      "21 [1237, 2324, 116897]\n",
      "22 [1207, 1291, 778]\n",
      "23 [1204, 6711, 1225]\n",
      "24 [1104, 177593, 3275]\n",
      "25 [296, 1197, 2959]\n",
      "26 [318, 951, 1248]\n",
      "27 [912, 3147, 318]\n",
      "28 [1193, 2324, 3468]\n",
      "29 [898, 260, 1258]\n",
      "30 [356, 527, 3147]\n",
      "31 [1276, 3147, 1104]\n",
      "32 [750, 1204, 898]\n",
      "33 [1234, 33166, 1262]\n",
      "34 [908, 40815, 922]\n",
      "35 [1204, 318, 4973]\n",
      "36 [2324, 1270, 1266]\n",
      "37 [1204, 858, 58559]\n",
      "38 [1387, 5618, 58]\n",
      "39 [1104, 293, 2959]\n",
      "40 [1237, 2959, 1104]\n",
      "41 [16, 2150, 3451]\n",
      "42 [1250, 1248, 898]\n",
      "43 [223, 593, 608]\n",
      "44 [4993, 3468, 1225]\n",
      "45 [1204, 1248, 3468]\n",
      "46 [898, 750, 1204]\n",
      "47 [1204, 1237, 1248]\n",
      "48 [1204, 608, 318]\n",
      "49 [1204, 1198, 296]\n",
      "50 [1203, 47, 898]\n",
      "51 [2959, 318, 2324]\n",
      "52 [112552, 899, 908]\n",
      "53 [1, 47, 50]\n",
      "54 [1250, 898, 1228]\n",
      "55 [1204, 933, 951]\n",
      "56 [2959, 58559, 1197]\n",
      "57 [318, 62336, 2329]\n",
      "58 [1204, 177593, 1104]\n",
      "59 [441, 2288, 3275]\n",
      "60 [1204, 951, 898]\n",
      "61 [260, 2959, 6711]\n",
      "62 [1204, 1208, 1201]\n",
      "63 [1204, 750, 3451]\n",
      "64 [541, 750, 1249]\n",
      "65 [3468, 1204, 1276]\n",
      "66 [1193, 1248, 951]\n",
      "67 [898, 1204, 2324]\n",
      "68 [246, 58, 1237]\n",
      "69 [1204, 778, 6016]\n",
      "70 [2959, 1204, 58559]\n",
      "71 [318, 527, 1204]\n",
      "72 [2959, 1204, 3275]\n",
      "73 [2959, 50, 1235]\n",
      "74 [47, 1204, 2959]\n",
      "75 [922, 1203, 112552]\n",
      "76 [2324, 1197, 951]\n",
      "77 [898, 922, 969]\n",
      "78 [3147, 177593, 1248]\n",
      "79 [318, 1248, 1266]\n",
      "80 [1196, 1204, 2019]\n",
      "81 [1204, 541, 2019]\n",
      "82 [3972, 1203, 898]\n",
      "83 [1266, 1237, 260]\n",
      "84 [2324, 177593, 3451]\n",
      "85 [1204, 4973, 318]\n",
      "86 [898, 1204, 951]\n",
      "87 [750, 112552, 1204]\n",
      "88 [750, 922, 1196]\n",
      "89 [1204, 475, 3972]\n",
      "90 [318, 912, 951]\n",
      "91 [1223, 6350, 1732]\n",
      "92 [1204, 541, 318]\n",
      "93 [50, 296, 1089]\n",
      "94 [2571, 951, 2959]\n",
      "95 [750, 318, 112552]\n",
      "96 [904, 58559, 1196]\n",
      "97 [1266, 3275, 3468]\n",
      "98 [318, 898, 3508]\n",
      "99 [3275, 1196, 1198]\n",
      "100 [112552, 1250, 1237]\n",
      "101 [318, 1196, 1248]\n",
      "102 [1203, 1204, 1291]\n",
      "103 [1204, 3451, 1200]\n",
      "104 [2324, 1673, 3147]\n",
      "105 [898, 1104, 1248]\n",
      "106 [260, 1197, 1198]\n",
      "107 [1204, 1215, 1237]\n",
      "108 [318, 296, 593]\n",
      "109 [951, 898, 3451]\n",
      "110 [1210, 1673, 904]\n",
      "111 [778, 69481, 3451]\n",
      "112 [4973, 858, 2502]\n",
      "113 [1213, 296, 2959]\n",
      "114 [1204, 318, 112552]\n",
      "115 [109374, 1225, 1214]\n",
      "116 [2571, 2324, 922]\n",
      "117 [1204, 3897, 1262]\n",
      "118 [1204, 260, 318]\n",
      "119 [1237, 951, 1204]\n",
      "120 [593, 1204, 58559]\n",
      "121 [720, 898, 3147]\n",
      "122 [3147, 898, 2019]\n",
      "123 [177593, 1204, 3030]\n",
      "124 [6016, 2019, 2324]\n",
      "125 [720, 741, 3451]\n",
      "126 [899, 898, 57669]\n",
      "127 [5690, 951, 741]\n",
      "128 [318, 3030, 1028]\n",
      "129 [933, 1204, 318]\n",
      "130 [58559, 2959, 858]\n",
      "131 [2019, 922, 6711]\n",
      "132 [3147, 1204, 1276]\n",
      "133 [1197, 1196, 1204]\n",
      "134 [318, 1196, 5952]\n",
      "135 [1201, 2019, 1204]\n",
      "136 [527, 1276, 1204]\n",
      "137 [112552, 475, 1266]\n",
      "138 [1262, 1673, 46578]\n",
      "139 [318, 2959, 1089]\n",
      "140 [112552, 5690, 3275]\n",
      "141 [1104, 1258, 750]\n",
      "142 [318, 750, 1207]\n",
      "143 [3468, 1276, 866]\n",
      "144 [2324, 1673, 1266]\n",
      "145 [260, 1204, 858]\n",
      "146 [2571, 2959, 1248]\n",
      "147 [318, 2959, 741]\n",
      "148 [720, 750, 1250]\n",
      "149 [527, 2959, 1104]\n",
      "150 [1248, 1198, 58559]\n",
      "151 [3429, 1204, 2959]\n",
      "152 [1276, 1204, 3972]\n",
      "153 [5618, 1172, 1968]\n",
      "154 [1136, 1196, 1198]\n",
      "155 [1204, 48516, 57669]\n",
      "156 [2959, 1104, 2329]\n",
      "157 [318, 1204, 1237]\n",
      "158 [1196, 1204, 1198]\n",
      "159 [593, 750, 112852]\n",
      "160 [4973, 1617, 3949]\n",
      "161 [1198, 1204, 2019]\n",
      "162 [1208, 2959, 2324]\n",
      "163 [296, 1204, 4973]\n",
      "164 [318, 58559, 2959]\n",
      "165 [593, 1204, 1104]\n",
      "166 [1204, 1223, 1673]\n",
      "167 [1258, 1225, 1884]\n",
      "168 [2571, 4993, 318]\n",
      "169 [898, 912, 741]\n",
      "170 [177593, 1266, 112552]\n",
      "171 [50, 356, 1258]\n",
      "172 [1204, 318, 1223]\n",
      "173 [318, 3147, 177593]\n",
      "174 [1204, 4011, 3030]\n",
      "175 [1204, 56782, 78499]\n",
      "176 [5690, 1266, 48780]\n",
      "177 [1172, 3147, 1178]\n",
      "178 [2324, 1204, 56782]\n",
      "179 [1204, 2571, 1617]\n",
      "180 [3468, 318, 778]\n",
      "181 [3494, 1204, 1198]\n",
      "182 [1276, 3451, 1201]\n",
      "183 [1204, 898, 912]\n",
      "184 [1204, 56782, 2959]\n",
      "185 [318, 260, 2571]\n",
      "186 [1248, 922, 3468]\n",
      "187 [4973, 898, 4235]\n",
      "188 [1204, 318, 951]\n",
      "189 [2324, 1197, 38061]\n",
      "190 [922, 1204, 3468]\n",
      "191 [2571, 1206, 4226]\n",
      "192 [904, 56782, 1250]\n",
      "193 [1203, 910, 1250]\n",
      "194 [318, 1204, 898]\n",
      "195 [541, 110, 1237]\n",
      "196 [1193, 69481, 912]\n",
      "197 [2324, 1204, 246]\n",
      "198 [720, 899, 1207]\n",
      "199 [898, 1221, 1732]\n",
      "200 [1204, 3468, 1237]\n",
      "201 [2700, 3030, 1266]\n",
      "202 [904, 6460, 1250]\n",
      "203 [56782, 58559, 475]\n",
      "204 [50, 318, 1248]\n",
      "205 [318, 1196, 1276]\n",
      "206 [1204, 1193, 5618]\n",
      "207 [3275, 1204, 951]\n",
      "208 [2959, 296, 78499]\n",
      "209 [296, 1204, 260]\n",
      "210 [1266, 177593, 3535]\n",
      "211 [527, 1204, 1203]\n",
      "212 [951, 1104, 898]\n",
      "213 [296, 2324, 3451]\n",
      "214 [1204, 2571, 951]\n",
      "215 [1250, 1193, 720]\n",
      "216 [1196, 750, 69481]\n",
      "217 [3578, 6539, 1235]\n",
      "218 [318, 951, 260]\n",
      "219 [912, 1252, 1204]\n",
      "220 [1234, 16, 30810]\n",
      "221 [104879, 933, 1248]\n",
      "222 [260, 1204, 2019]\n",
      "223 [1222, 1258, 57669]\n",
      "224 [912, 741, 177593]\n",
      "225 [898, 1104, 951]\n",
      "226 [593, 1201, 541]\n",
      "227 [1204, 1237, 1104]\n",
      "228 [1248, 898, 1089]\n",
      "229 [1204, 912, 260]\n",
      "230 [1258, 34405, 5072]\n",
      "231 [318, 1258, 899]\n",
      "232 [951, 1178, 4878]\n",
      "233 [1204, 951, 750]\n",
      "234 [55247, 1197, 58559]\n",
      "235 [2959, 1198, 1291]\n",
      "236 [1258, 318, 1246]\n",
      "237 [922, 898, 3275]\n",
      "238 [1204, 1248, 318]\n",
      "239 [1204, 2324, 2762]\n",
      "240 [47, 527, 593]\n",
      "241 [3451, 1204, 1704]\n",
      "242 [1204, 928, 58559]\n",
      "243 [1136, 1732, 2959]\n",
      "244 [4973, 1198, 1387]\n",
      "245 [177593, 1104, 1237]\n",
      "246 [318, 593, 1248]\n",
      "247 [1276, 29, 1104]\n",
      "248 [1204, 246, 1258]\n",
      "249 [1204, 951, 1223]\n",
      "250 [58559, 750, 5690]\n",
      "251 [1266, 2324, 177593]\n",
      "252 [898, 1089, 2858]\n",
      "253 [2959, 1204, 318]\n",
      "254 [951, 2324, 928]\n",
      "255 [356, 318, 56782]\n",
      "256 [1282, 177593, 69844]\n",
      "257 [3578, 2571, 908]\n",
      "258 [778, 3451, 50]\n",
      "259 [912, 318, 2186]\n",
      "260 [2324, 3451, 741]\n",
      "261 [1198, 1197, 1172]\n",
      "262 [951, 1104, 2324]\n",
      "263 [1204, 3451, 5690]\n",
      "264 [1204, 318, 750]\n",
      "265 [1210, 527, 1204]\n",
      "266 [750, 858, 1221]\n",
      "267 [1204, 3030, 1203]\n",
      "268 [750, 296, 1223]\n",
      "269 [1262, 1208, 1245]\n",
      "270 [318, 1262, 1204]\n",
      "271 [1204, 260, 541]\n",
      "272 [260, 1204, 3468]\n",
      "273 [1266, 2324, 1172]\n",
      "274 [1204, 3451, 3967]\n",
      "275 [1203, 5782, 1217]\n",
      "276 [50, 296, 441]\n",
      "277 [1204, 2324, 2959]\n",
      "278 [2324, 2959, 3429]\n",
      "279 [1204, 1197, 4973]\n",
      "280 [951, 858, 750]\n",
      "281 [1204, 1172, 318]\n",
      "282 [1248, 1204, 142488]\n",
      "283 [1204, 1248, 527]\n",
      "284 [2959, 3030, 1104]\n",
      "285 [1204, 6711, 318]\n",
      "286 [50, 1204, 5690]\n",
      "287 [7361, 296, 318]\n",
      "288 [1221, 50, 3468]\n",
      "289 [2959, 1198, 1248]\n",
      "290 [1148, 177593, 1223]\n",
      "291 [1204, 1222, 922]\n",
      "292 [1266, 112552, 33794]\n",
      "293 [1204, 951, 3275]\n",
      "294 [750, 4973, 3949]\n",
      "295 [951, 527, 2324]\n",
      "296 [1204, 778, 58559]\n",
      "297 [858, 1221, 1208]\n",
      "298 [56782, 1204, 2028]\n",
      "299 [260, 1233, 318]\n",
      "300 [541, 1193, 1204]\n",
      "301 [1208, 318, 750]\n",
      "302 [1204, 1196, 5952]\n",
      "303 [1248, 608, 838]\n",
      "304 [1266, 1203, 1178]\n",
      "305 [908, 3451, 912]\n",
      "306 [922, 750, 1213]\n",
      "307 [74458, 3996, 1748]\n",
      "308 [112552, 4896, 733]\n",
      "309 [899, 142488, 246]\n",
      "310 [2571, 318, 858]\n",
      "311 [50, 260, 908]\n",
      "312 [858, 318, 1262]\n",
      "313 [3275, 475, 1104]\n",
      "314 [1204, 904, 1270]\n",
      "315 [318, 912, 5690]\n",
      "316 [318, 58559, 1104]\n",
      "317 [1204, 106100, 6440]\n",
      "318 [951, 3275, 112552]\n",
      "319 [260, 1250, 1204]\n",
      "320 [1204, 527, 6711]\n",
      "321 [1258, 318, 2959]\n",
      "322 [142488, 1291, 1197]\n",
      "323 [4973, 3000, 2858]\n",
      "324 [3275, 318, 1204]\n",
      "325 [4973, 1206, 608]\n",
      "326 [177593, 3030, 58559]\n",
      "327 [2324, 1198, 2959]\n",
      "328 [923, 2324, 7361]\n",
      "329 [922, 3100, 3468]\n",
      "330 [26662, 1245, 78499]\n",
      "331 [1089, 527, 1208]\n",
      "332 [1201, 933, 1719]\n",
      "333 [4993, 7153, 750]\n",
      "334 [1266, 1204, 1252]\n",
      "335 [1276, 1228, 260]\n",
      "336 [246, 2580, 1212]\n",
      "337 [1208, 112552, 930]\n",
      "338 [1213, 1089, 908]\n",
      "339 [898, 110, 246]\n",
      "340 [898, 5690, 1248]\n",
      "341 [1204, 1201, 38061]\n",
      "342 [3468, 318, 4993]\n",
      "343 [6711, 1266, 58559]\n",
      "344 [56782, 79132, 899]\n",
      "345 [1104, 318, 1204]\n",
      "346 [908, 1276, 318]\n",
      "347 [246, 1196, 1204]\n",
      "348 [1197, 1198, 1258]\n",
      "349 [1266, 1237, 4144]\n",
      "350 [4973, 296, 2959]\n",
      "351 [898, 1197, 318]\n",
      "352 [1208, 1303, 1035]\n",
      "353 [858, 1208, 260]\n",
      "354 [177593, 3451, 1245]\n",
      "355 [608, 2324, 1223]\n",
      "356 [1204, 3451, 904]\n",
      "357 [1233, 1204, 1201]\n",
      "358 [1276, 318, 2019]\n",
      "359 [1276, 1104, 898]\n",
      "360 [3451, 1208, 1204]\n",
      "361 [177593, 112552, 1223]\n",
      "362 [1104, 1197, 1204]\n",
      "363 [2324, 1204, 6377]\n",
      "364 [56782, 1208, 318]\n",
      "365 [1250, 912, 908]\n",
      "366 [1204, 750, 1203]\n",
      "367 [58559, 54259, 1197]\n",
      "368 [1204, 4226, 2959]\n",
      "369 [318, 7153, 296]\n",
      "370 [6711, 48516, 3030]\n",
      "371 [260, 1197, 1210]\n",
      "372 [58559, 1237, 1248]\n",
      "373 [1704, 1248, 608]\n",
      "374 [2324, 1276, 2959]\n",
      "375 [912, 56782, 6711]\n",
      "376 [951, 3451, 2324]\n",
      "377 [1213, 3681, 112552]\n",
      "378 [1204, 912, 1250]\n",
      "379 [1204, 1201, 3275]\n",
      "380 [29, 922, 1250]\n",
      "381 [5690, 71899, 6016]\n",
      "382 [7361, 4973, 1291]\n",
      "383 [1266, 58559, 1204]\n",
      "384 [318, 3147, 1213]\n",
      "385 [527, 7153, 44195]\n",
      "386 [1204, 2360, 51255]\n",
      "387 [3468, 7361, 6711]\n",
      "388 [318, 1204, 5690]\n",
      "389 [527, 1196, 1197]\n",
      "390 [750, 246, 1230]\n",
      "391 [1387, 1252, 1250]\n",
      "392 [1250, 56782, 912]\n",
      "393 [356, 1217, 318]\n",
      "394 [1204, 296, 898]\n",
      "395 [177593, 1258, 475]\n",
      "396 [2959, 296, 1204]\n",
      "397 [908, 912, 1204]\n",
      "398 [260, 1204, 1196]\n",
      "399 [858, 2788, 1204]\n",
      "400 [56782, 1204, 1276]\n",
      "401 [1204, 904, 899]\n",
      "402 [3451, 1245, 318]\n",
      "403 [1204, 318, 527]\n",
      "404 [1204, 4993, 56782]\n",
      "405 [2324, 1104, 1204]\n",
      "406 [922, 858, 930]\n",
      "407 [1204, 1223, 951]\n",
      "408 [356, 1204, 1237]\n",
      "409 [1204, 750, 4226]\n",
      "410 [1250, 1387, 2160]\n",
      "411 [1204, 1272, 1291]\n",
      "412 [3429, 912, 1237]\n",
      "413 [50, 74458, 112552]\n",
      "414 [3030, 1219, 1046]\n",
      "415 [951, 1104, 46578]\n",
      "416 [1248, 1215, 3910]\n",
      "417 [1237, 475, 1283]\n",
      "418 [4973, 68157, 1197]\n",
      "419 [1204, 3740, 2324]\n",
      "420 [912, 1276, 1204]\n",
      "421 [2571, 2360, 898]\n",
      "422 [1196, 1197, 6016]\n",
      "423 [2959, 3030, 142488]\n",
      "424 [3494, 112552, 3030]\n",
      "425 [112552, 2846, 1258]\n",
      "426 [908, 912, 589]\n",
      "427 [858, 260, 608]\n",
      "428 [2502, 4226, 306]\n",
      "429 [1089, 908, 1250]\n",
      "430 [1208, 4973, 1266]\n",
      "431 [260, 1196, 318]\n",
      "432 [112552, 951, 2160]\n",
      "433 [1248, 1198, 1204]\n",
      "434 [1204, 56782, 2997]\n",
      "435 [2324, 1208, 1204]\n",
      "436 [3451, 1104, 1248]\n",
      "437 [858, 4973, 541]\n",
      "438 [1201, 1223, 1212]\n",
      "439 [1104, 1204, 260]\n",
      "440 [318, 899, 356]\n",
      "441 [608, 778, 56782]\n",
      "442 [1223, 2959, 1193]\n",
      "443 [912, 1196, 177593]\n",
      "444 [1203, 1204, 3451]\n",
      "445 [951, 922, 1204]\n",
      "446 [2959, 318, 1204]\n",
      "447 [4973, 1248, 2997]\n",
      "448 [1197, 750, 527]\n",
      "449 [898, 3429, 1204]\n",
      "450 [1204, 1215, 2324]\n",
      "451 [2959, 318, 1198]\n",
      "452 [50, 223, 593]\n",
      "453 [3468, 1203, 1278]\n",
      "454 [3508, 741, 912]\n",
      "455 [1266, 7361, 2959]\n",
      "456 [1196, 1197, 1210]\n",
      "457 [1204, 475, 951]\n",
      "458 [318, 1266, 1276]\n",
      "459 [908, 1204, 112552]\n",
      "460 [1197, 3451, 1258]\n",
      "461 [1035, 475, 3972]\n",
      "462 [1250, 898, 3147]\n",
      "463 [318, 1237, 2858]\n",
      "464 [1198, 3275, 3468]\n",
      "465 [296, 318, 50]\n",
      "466 [1215, 1237, 1276]\n",
      "467 [1204, 318, 1262]\n",
      "468 [1204, 1248, 1198]\n",
      "469 [1245, 3468, 3949]\n",
      "470 [899, 1204, 1196]\n",
      "471 [750, 1204, 778]\n",
      "472 [898, 951, 2324]\n",
      "473 [260, 1204, 898]\n",
      "474 [2732, 3266, 1277]\n",
      "475 [441, 1197, 1213]\n",
      "476 [2329, 260, 527]\n",
      "477 [50, 951, 858]\n",
      "478 [318, 6711, 1198]\n",
      "479 [1225, 1207, 78499]\n",
      "480 [58559, 56782, 2300]\n",
      "481 [1204, 318, 260]\n",
      "482 [951, 914, 1237]\n",
      "483 [1204, 750, 1235]\n",
      "484 [3083, 6377, 246]\n",
      "485 [741, 5690, 912]\n",
      "486 [5690, 1673, 112552]\n",
      "487 [1196, 922, 54503]\n",
      "488 [1208, 951, 1204]\n",
      "489 [778, 1197, 3681]\n",
      "490 [1204, 318, 858]\n",
      "491 [899, 1233, 1204]\n",
      "492 [7153, 1203, 2542]\n",
      "493 [2959, 318, 593]\n",
      "494 [318, 898, 1193]\n",
      "495 [904, 908, 912]\n",
      "496 [593, 1197, 318]\n",
      "497 [1204, 1223, 177593]\n",
      "498 [951, 741, 1234]\n",
      "499 [318, 750, 858]\n",
      "500 [318, 48516, 3275]\n",
      "501 [1204, 1237, 951]\n",
      "502 [1203, 1204, 951]\n",
      "503 [912, 3451, 720]\n",
      "504 [1204, 2959, 318]\n",
      "505 [3030, 3468, 1104]\n",
      "506 [1193, 541, 2788]\n",
      "507 [1204, 1673, 1210]\n",
      "508 [318, 79132, 1104]\n",
      "509 [922, 1291, 2959]\n",
      "510 [318, 260, 1197]\n",
      "511 [1204, 1248, 6711]\n",
      "512 [5690, 1204, 1198]\n",
      "513 [1204, 1089, 1136]\n",
      "514 [1204, 318, 912]\n",
      "515 [1197, 1198, 1222]\n",
      "516 [1276, 922, 4993]\n",
      "517 [908, 1096, 3114]\n",
      "518 [318, 50, 1248]\n",
      "519 [58559, 6016, 6711]\n",
      "520 [1283, 1262, 29]\n",
      "521 [318, 1204, 1225]\n",
      "522 [1206, 4973, 1283]\n",
      "523 [50, 110, 296]\n",
      "524 [2289, 7153, 1204]\n",
      "525 [933, 904, 1258]\n",
      "526 [1204, 1250, 951]\n",
      "527 [1248, 106100, 32587]\n",
      "528 [318, 898, 4993]\n",
      "529 [1266, 1248, 177593]\n",
      "530 [2959, 1204, 318]\n",
      "531 [898, 4973, 3030]\n",
      "532 [933, 356, 930]\n",
      "533 [318, 1204, 3468]\n",
      "534 [908, 318, 177593]\n",
      "535 [318, 2959, 1198]\n",
      "536 [1617, 1673, 1248]\n",
      "537 [296, 1204, 260]\n",
      "538 [318, 1276, 1237]\n",
      "539 [3468, 1, 175]\n",
      "540 [318, 3147, 50]\n",
      "541 [1248, 1266, 2019]\n",
      "542 [1221, 1197, 1198]\n",
      "543 [110, 260, 441]\n",
      "544 [110, 260, 356]\n",
      "545 [1223, 750, 3275]\n",
      "546 [899, 1278, 1258]\n",
      "547 [2324, 1204, 3275]\n",
      "548 [2959, 1204, 318]\n",
      "549 [296, 6502, 2542]\n",
      "550 [1204, 1258, 750]\n",
      "551 [1204, 898, 1237]\n",
      "552 [4226, 1198, 318]\n",
      "553 [318, 1204, 1197]\n",
      "554 [5690, 2959, 922]\n",
      "555 [1248, 527, 1204]\n",
      "556 [318, 1204, 6711]\n",
      "557 [475, 3275, 47]\n",
      "558 [46578, 5690, 912]\n",
      "559 [1198, 750, 1222]\n",
      "560 [1204, 5690, 6711]\n",
      "561 [750, 6787, 142488]\n",
      "562 [2324, 1104, 4226]\n",
      "563 [1204, 6711, 1201]\n",
      "564 [898, 1228, 1035]\n",
      "565 [1204, 3451, 1262]\n",
      "566 [1237, 56782, 3494]\n",
      "567 [1204, 2959, 69481]\n",
      "568 [2959, 318, 1208]\n",
      "569 [898, 1204, 3468]\n",
      "570 [58559, 296, 593]\n",
      "571 [1997, 1209, 1213]\n",
      "572 [1203, 913, 899]\n",
      "573 [475, 27773, 56782]\n",
      "574 [2324, 1204, 2959]\n",
      "575 [2959, 4226, 2324]\n",
      "576 [4973, 750, 1262]\n",
      "577 [1207, 3030, 1204]\n",
      "578 [48516, 2324, 1193]\n",
      "579 [1204, 1223, 1104]\n",
      "580 [475, 2324, 5690]\n",
      "581 [951, 1172, 1089]\n",
      "582 [318, 899, 1258]\n",
      "583 [58559, 1228, 1104]\n",
      "584 [1258, 2571, 318]\n",
      "585 [1204, 3468, 1104]\n",
      "586 [2324, 922, 1204]\n",
      "587 [318, 1266, 104879]\n",
      "588 [3451, 908, 858]\n",
      "589 [3949, 1204, 260]\n",
      "590 [916, 6711, 720]\n",
      "591 [318, 750, 177593]\n",
      "592 [908, 56782, 5060]\n",
      "593 [1225, 898, 750]\n",
      "594 [50, 356, 1196]\n",
      "595 [750, 4993, 1204]\n",
      "596 [1204, 1237, 318]\n",
      "597 [1080, 2959, 318]\n",
      "598 [527, 1250, 1104]\n",
      "599 [1217, 1235, 2324]\n",
      "600 [1225, 50, 720]\n",
      "601 [1204, 3451, 3468]\n",
      "602 [951, 58, 3451]\n",
      "603 [7099, 1204, 3468]\n",
      "604 [1204, 3451, 29]\n",
      "605 [1258, 1204, 1233]\n",
      "606 [79132, 1245, 608]\n",
      "607 [356, 177593, 106100]\n",
      "608 [909, 1245, 4973]\n",
      "609 [1198, 750, 1204]\n",
      "610 [1204, 1233, 1148]\n"
     ]
    }
   ],
   "source": [
    "from collections import defaultdict\n",
    "def get_top_n(predictions,n):\n",
    "    top_n=defaultdict(list)\n",
    "    for uid,iid,_,est,_ in predictions:\n",
    "        top_n[uid].append((iid,est))\n",
    "        \n",
    "    for uid,user_ratings in top_n.items():\n",
    "        user_ratings.sort(key = lambda x: x[1] , reverse = True)\n",
    "        top_n[uid]=user_ratings[:n]\n",
    "        \n",
    "    return top_n\n",
    "      \n",
    "    pass\n",
    "top_n=get_top_n(predictions, n=3)\n",
    "for uid,user_ratings in top_n.items():\n",
    "    print(uid , [iid for (iid , ratings) in user_ratings])"
   ]
  },
  {
   "cell_type": "code",
   "execution_count": null,
   "metadata": {},
   "outputs": [],
   "source": []
  }
 ],
 "metadata": {
  "colab": {
   "collapsed_sections": [],
   "name": "Movies Recommendation Engine - Coursera [Starter]",
   "provenance": [],
   "toc_visible": true
  },
  "kernelspec": {
   "display_name": "Python 3",
   "language": "python",
   "name": "python3"
  },
  "language_info": {
   "codemirror_mode": {
    "name": "ipython",
    "version": 3
   },
   "file_extension": ".py",
   "mimetype": "text/x-python",
   "name": "python",
   "nbconvert_exporter": "python",
   "pygments_lexer": "ipython3",
   "version": "3.6.9"
  }
 },
 "nbformat": 4,
 "nbformat_minor": 4
}
